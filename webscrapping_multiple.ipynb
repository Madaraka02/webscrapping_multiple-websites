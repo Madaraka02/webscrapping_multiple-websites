{
 "cells": [
  {
   "cell_type": "markdown",
   "id": "745924f6",
   "metadata": {},
   "source": [
    "#### Web Scrapping multiple ecommerce website"
   ]
  },
  {
   "cell_type": "code",
   "execution_count": 59,
   "id": "dc519a03",
   "metadata": {},
   "outputs": [
    {
     "name": "stdout",
     "output_type": "stream",
     "text": [
      "what are you looking for: beaded\n"
     ]
    }
   ],
   "source": [
    "websites={\n",
    "#     \"amazon\":\"https://www.amazon.com/s?k={}\",\n",
    "    \"jiji\":\"https://jiji.co.ke/search?query={}\",\n",
    "    \"enthu\":\"http://enthusiastic-art.herokuapp.com/search/?q={}\"\n",
    "}\n",
    "\n",
    "searches = list()\n",
    "\n",
    "look = input(\"what are you looking for: \")\n",
    "searches.append(look)\n",
    "\n",
    "urls = list()\n",
    "webs =list()\n",
    "for website, ur in websites.items():\n",
    "    webs.append(website)\n",
    "    for s in searches:\n",
    "        url =(ur.format(s))\n",
    "        urls.append(url)"
   ]
  },
  {
   "cell_type": "code",
   "execution_count": 60,
   "id": "2eb00699",
   "metadata": {},
   "outputs": [
    {
     "data": {
      "text/plain": [
       "['https://jiji.co.ke/search?query=beaded',\n",
       " 'http://enthusiastic-art.herokuapp.com/search/?q=beaded']"
      ]
     },
     "execution_count": 60,
     "metadata": {},
     "output_type": "execute_result"
    }
   ],
   "source": [
    "urls"
   ]
  },
  {
   "cell_type": "code",
   "execution_count": 61,
   "id": "1f41d49d",
   "metadata": {},
   "outputs": [
    {
     "data": {
      "text/plain": [
       "['jiji', 'enthu']"
      ]
     },
     "execution_count": 61,
     "metadata": {},
     "output_type": "execute_result"
    }
   ],
   "source": [
    "webs"
   ]
  },
  {
   "cell_type": "code",
   "execution_count": 62,
   "id": "9c12167d",
   "metadata": {},
   "outputs": [],
   "source": [
    "weburls=dict(zip(webs, urls))"
   ]
  },
  {
   "cell_type": "code",
   "execution_count": 63,
   "id": "0ccde485",
   "metadata": {},
   "outputs": [
    {
     "data": {
      "text/plain": [
       "{'jiji': 'https://jiji.co.ke/search?query=beaded',\n",
       " 'enthu': 'http://enthusiastic-art.herokuapp.com/search/?q=beaded'}"
      ]
     },
     "execution_count": 63,
     "metadata": {},
     "output_type": "execute_result"
    }
   ],
   "source": [
    "weburls"
   ]
  },
  {
   "cell_type": "code",
   "execution_count": 64,
   "id": "a854b3dc",
   "metadata": {},
   "outputs": [
    {
     "name": "stdout",
     "output_type": "stream",
     "text": [
      "https://jiji.co.ke/search?query=beaded\n"
     ]
    }
   ],
   "source": [
    "for website, url in weburls.items():\n",
    "  if website == \"jiji\":\n",
    "    print(url)"
   ]
  },
  {
   "cell_type": "code",
   "execution_count": 65,
   "id": "1ad86420",
   "metadata": {},
   "outputs": [],
   "source": [
    "import requests\n",
    "from bs4 import BeautifulSoup"
   ]
  },
  {
   "cell_type": "code",
   "execution_count": 66,
   "id": "102c590b",
   "metadata": {},
   "outputs": [
    {
     "name": "stdout",
     "output_type": "stream",
     "text": [
      "PRODUCT FROM:jiji\n",
      "Beaded Necklaces\n",
      "\n",
      "                            KSh 150\n",
      "                    \n",
      "https://pictures-kenya.jijistatic.com/4240861_img-20190512-202121_180x240.jpg\n",
      "https://jiji.co.ke/mweiga/accessories/beaded-necklaces-gbrYe67EpyBAvXKADia7Yk70.html\n",
      "2 Beaded Chain Anklets\n",
      "\n",
      "                            KSh 800\n",
      "                    \n",
      "https://pictures-kenya.jijistatic.com/5610616_2-anklets_180x180.jpg\n",
      "https://jiji.co.ke/nairobi-central/jewellery-and-watches/2-beaded-chain-anklets-lfejbQaNAzoGYjTLfNNYuznh.html\n",
      "Beaded Bracelet\n",
      "\n",
      "                            KSh 100\n",
      "                    \n",
      "https://pictures-kenya.jijistatic.com/10012526_img-20200628-202358_180x135.jpg\n",
      "https://jiji.co.ke/mweiga/jewellery-and-watches/beaded-bracelet-sfHbLvXolShZ9jxAaiwdZZz3.html\n",
      "Beaded Bracelets\n",
      "\n",
      "                            KSh 350\n",
      "                    \n",
      "https://pictures-kenya.jijistatic.com/28742479_MTgwLTMyMC1lMzEzMWViMzQ3.jpg\n",
      "https://jiji.co.ke/nairobi-central/jewellery-and-watches/beaded-bracelets-45V4DqxDYRn0MNJmyhBLAyXS.html\n",
      "Beaded Bracelet(Mwagika)\n",
      "\n",
      "                            KSh 100\n",
      "                    \n",
      "https://pictures-kenya.jijistatic.com/17734325_img-20210303-101208_180x240.jpg\n",
      "https://jiji.co.ke/lucky-summer/jewellery-and-watches/beaded-bracelet-mwagika-bqFjG3nEWfhbMWtcptBHQb7M.html\n",
      "Bead Earrings\n",
      "\n",
      "                            KSh 350\n",
      "                    \n",
      "https://pictures-kenya.jijistatic.com/12590535_img-20200915-173313-129_180x174.jpg\n",
      "https://jiji.co.ke/nairobi-central/jewellery-and-watches/bead-earrings-hwcU6aY8vcBm1XAkCF2DUPc.html\n",
      "Milky Beaded Bracelets\n",
      "\n",
      "                            KSh 200\n",
      "                    \n",
      "https://pictures-kenya.jijistatic.com/13774135_snapchat-320260755_180x369.jpg\n",
      "https://jiji.co.ke/nairobi-central/jewellery-and-watches/milky-beaded-bracelets-2O9cFVCfJiWGbAAmdhaU1Iyz.html\n",
      "Beaded Simple Bracelet Set.\n",
      "\n",
      "                            KSh 1,500\n",
      "                    \n",
      "https://pictures-kenya.jijistatic.com/26789870_MTgwLTE4MC00ODkyMTJjM2Jj.jpg\n",
      "https://jiji.co.ke/nairobi-central/jewellery-and-watches/beaded-simple-bracelet-set-5DNFALqlyzeIGqu3YHATNDB6.html\n",
      "Plastic Beads Large Variety.\n",
      "\n",
      "                            KSh 350\n",
      "                    \n",
      "https://pictures-kenya.jijistatic.com/10165033_20200625-155542_180x135.jpg\n",
      "https://jiji.co.ke/nairobi-central/jewellery-and-watches/plastic-beads-large-variety-xrFoYJ0JF7i3ayrMidc6vD8L.html\n",
      "Beaded Necklace\n",
      "\n",
      "                            KSh 800\n",
      "                    \n",
      "https://pictures-kenya.jijistatic.com/22271076_MTgwLTE4MC0wZjE3OWMzMTAx.jpg\n",
      "https://jiji.co.ke/nairobi-central/jewellery-and-watches/beaded-necklace-oBPkj3aDYIrslDmMNbPi6kL9.html\n",
      "Beaded Necklace\n",
      "\n",
      "                            KSh 800\n",
      "                    \n",
      "https://pictures-kenya.jijistatic.com/22271154_MTgwLTE3NS02NjlhMjk5NmRk.jpg\n",
      "https://jiji.co.ke/nairobi-central/jewellery-and-watches/beaded-necklace-nGnqIfFIAmcaQANPo2bP7NDO.html\n",
      "Beaded Necklace\n",
      "\n",
      "                            KSh 800\n",
      "                    \n",
      "https://pictures-kenya.jijistatic.com/22270968_MTgwLTI4MC03NjcyY2JkN2M4.jpg\n",
      "https://jiji.co.ke/nairobi-central/jewellery-and-watches/beaded-necklace-p7dznUo1KFLXoC5sBGSQjoqt.html\n",
      "Vikings Rolex Beaded Bracelet Sets\n",
      "\n",
      "                            KSh 1,500\n",
      "                    \n",
      "https://pictures-kenya.jijistatic.com/26800583_MTgwLTE4MC0yYjFhZTU0MDIx.jpg\n",
      "https://jiji.co.ke/nairobi-central/jewellery-and-watches/vikings-rolex-beaded-bracelet-sets-e0x94eidpw5cnVqCeNZEGKSf.html\n",
      "Beaded Necklace\n",
      "\n",
      "                            KSh 800\n",
      "                    \n",
      "https://pictures-kenya.jijistatic.com/22270704_MTgwLTIyMi1mZDQzNThkNzNj.jpg\n",
      "https://jiji.co.ke/nairobi-central/jewellery-and-watches/beaded-necklace-dYGOZ1Rk3aj3G6H4Yiy6308p.html\n",
      "Beaded Necklace\n",
      "\n",
      "                            KSh 800\n",
      "                    \n",
      "https://pictures-kenya.jijistatic.com/22270821_MTgwLTE4NC05NWQwNjZiZGMy.jpg\n",
      "https://jiji.co.ke/nairobi-central/jewellery-and-watches/beaded-necklace-7uZ7nnM9OUvduTdq5jePty72.html\n",
      "Womens Beaded Anklet in Different Colors\n",
      "\n",
      "                            KSh 500\n",
      "                    \n",
      "https://pictures-kenya.jijistatic.com/7897262_76_180x196.jpg\n",
      "https://jiji.co.ke/nairobi-central/jewellery-and-watches/womens-beaded-anklet-in-different-colors-z62ceGX7meZWbRpyDGiA2DlU.html\n",
      "Beaded Necklace\n",
      "\n",
      "                            KSh 800\n",
      "                    \n",
      "https://pictures-kenya.jijistatic.com/22270848_MTgwLTIxMy0wZGE0MDE1NDcw.jpg\n",
      "https://jiji.co.ke/nairobi-central/jewellery-and-watches/beaded-necklace-6bVyjsdnPRM1UFKA2rVqVyAP.html\n",
      "Beaded Necklace\n",
      "\n",
      "                            KSh 900\n",
      "                    \n",
      "https://pictures-kenya.jijistatic.com/22271105_MTgwLTIxMS1kMjZjNGViNTM2.jpg\n",
      "https://jiji.co.ke/nairobi-central/jewellery-and-watches/beaded-necklace-zvlykv3XjMDQ9HRX9gPgEed4.html\n",
      "Beaded Necklace\n",
      "\n",
      "                            KSh 800\n",
      "                    \n",
      "https://pictures-kenya.jijistatic.com/22270857_MTgwLTIzMC1mZTYyMWVjYTRi.jpg\n",
      "https://jiji.co.ke/nairobi-central/jewellery-and-watches/beaded-necklace-ruw7JjcYuoxcn9ftXoooa8kn.html\n",
      "Beaded Maasai Bracelets\n",
      "\n",
      "                            KSh 200\n",
      "                    \n",
      "https://pictures-kenya.jijistatic.com/27622310_MTgwLTEwMS04MzhlYmEyOWQ0.jpg\n",
      "https://jiji.co.ke/embakasi/jewellery-and-watches/beaded-maasai-bracelets-swXGgjclsep2OsPNDoA9ULkV.html\n",
      "PRODUCT FROM:enthu\n",
      "beaded necklace\n",
      "$100.00$137.00\n",
      "/media/static/images/WhatsApp_Image_2021-11-20_at_05.37.56_YfwEQS1.jpeg\n"
     ]
    }
   ],
   "source": [
    "for website, url in weburls.items():\n",
    "    print(\"PRODUCT FROM:\" +website)\n",
    "    if website == \"enthu\":\n",
    "        \n",
    "        page = requests.get(url)\n",
    "        #print(page)\n",
    "        soup = BeautifulSoup(page.content, \"html.parser\")\n",
    "        #print(soup.prettify())\n",
    "        products = soup.find_all(class_=\"product\")\n",
    "        #print(products)\n",
    "        \n",
    "        for product in products:\n",
    "\n",
    "            if product:\n",
    "\n",
    "                title = product.find(class_='product-name').get_text()\n",
    "                price = product.find(class_='product-price').get_text()\n",
    "                img = product.find('img')\n",
    "\n",
    "                print(title)\n",
    "                print(price)\n",
    "                print(img['src'])\n",
    "                \n",
    "    elif website == \"jiji\":\n",
    "        \n",
    "        page = requests.get(url)\n",
    "        #print(page)\n",
    "        soup = BeautifulSoup(page.content, \"html.parser\")\n",
    "        #print(soup.prettify())\n",
    "        products = soup.find_all(class_=\"qa-advert-list-item\")\n",
    "#         print(products)\n",
    "        \n",
    "        for product in products:\n",
    "\n",
    "            if product:\n",
    "\n",
    "                title = product.find(class_='qa-advert-title').get_text()\n",
    "                price = product.find(class_='b-list-advert__item-price').get_text()\n",
    "                link = product.find('a')\n",
    "                img = product.find('img')\n",
    "\n",
    "                print(title)\n",
    "                print(price)\n",
    "                print(img['src'])\n",
    "                print(link['href'])\n"
   ]
  },
  {
   "cell_type": "code",
   "execution_count": null,
   "id": "f4c91580",
   "metadata": {},
   "outputs": [],
   "source": []
  }
 ],
 "metadata": {
  "kernelspec": {
   "display_name": "Python 3",
   "language": "python",
   "name": "python3"
  },
  "language_info": {
   "codemirror_mode": {
    "name": "ipython",
    "version": 3
   },
   "file_extension": ".py",
   "mimetype": "text/x-python",
   "name": "python",
   "nbconvert_exporter": "python",
   "pygments_lexer": "ipython3",
   "version": "3.8.8"
  }
 },
 "nbformat": 4,
 "nbformat_minor": 5
}
